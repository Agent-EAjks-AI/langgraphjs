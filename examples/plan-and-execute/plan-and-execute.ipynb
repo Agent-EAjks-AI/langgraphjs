{
 "cells": [
  {
   "cell_type": "markdown",
   "id": "1f5011ae",
   "metadata": {},
   "source": [
    "# Plan-and-Execute\n",
    "\n",
    "This notebook shows how to create a \"plan-and-execute\" style agent. This is\n",
    "heavily inspired by the [Plan-and-Solve](https://arxiv.org/abs/2305.04091) paper\n",
    "as well as the [Baby-AGI](https://github.com/yoheinakajima/babyagi) project.\n",
    "\n",
    "The core idea is to first come up with a multi-step plan, and then go through\n",
    "that plan one item at a time. After accomplishing a particular task, you can\n",
    "then revisit the plan and modify as appropriate.\n",
    "\n",
    "This compares to a typical [ReAct](https://arxiv.org/abs/2210.03629) style agent\n",
    "where you think one step at a time. The advantages of this \"plan-and-execute\"\n",
    "style agent are:\n",
    "\n",
    "1. Explicit long term planning (which even really strong LLMs can struggle with)\n",
    "2. Ability to use smaller/weaker models for the execution step, only using\n",
    "   larger/better models for the planning step\n"
   ]
  },
  {
   "cell_type": "markdown",
   "id": "15d34776",
   "metadata": {},
   "source": [
    "## Setup\n",
    "\n",
    "First, we need to install the packages required.\n",
    "\n",
    "```bash\n",
    "npm install @langchain/langgraph @langchain/openai langchain\n",
    "```\n"
   ]
  },
  {
   "cell_type": "markdown",
   "id": "c19c72ec",
   "metadata": {},
   "source": [
    "Next, we need to set API keys for OpenAI (the LLM we will use) and Tavily (the\n",
    "search tool we will use)\n"
   ]
  },
  {
   "cell_type": "code",
   "execution_count": 1,
   "id": "54485855",
   "metadata": {},
   "outputs": [],
   "source": [
    "// process.env.OPENAI_API_KEY = \"YOUR_API_KEY\"\n",
    "// process.env.TAVILY_API_KEY = \"YOUR_API_KEY\"\n"
   ]
  },
  {
   "cell_type": "markdown",
   "id": "0c681775",
   "metadata": {},
   "source": [
    "Optionally, we can set API key for LangSmith tracing, which will give us\n",
    "best-in-class observability.\n"
   ]
  },
  {
   "cell_type": "code",
   "execution_count": 2,
   "id": "57574807",
   "metadata": {},
   "outputs": [],
   "source": [
    "// process.env.LANGCHAIN_TRACING_V2 = \"true\"\n",
    "// process.env.LANGCHAIN_API_KEY = \"YOUR_API_KEY\"\n",
    "// process.env.LANGCHAIN_PROJECT = \"YOUR_PROJECT_NAME\"\n"
   ]
  },
  {
   "cell_type": "markdown",
   "id": "22a5c3b9",
   "metadata": {},
   "source": [
    "## Define the State\n",
    "\n",
    "Let's start by defining the state to track for this agent.\n",
    "\n",
    "First, we will need to track the current plan. Let's represent that as a list of\n",
    "strings.\n",
    "\n",
    "Next, we should track previously executed steps. Let's represent that as a list\n",
    "of tuples (these tuples will contain the step and then the result)\n",
    "\n",
    "Finally, we need to have some state to represent the final response as well as\n",
    "the original input.\n"
   ]
  },
  {
   "cell_type": "code",
   "execution_count": 17,
   "id": "10e49ce6",
   "metadata": {},
   "outputs": [],
   "source": [
    "import { StateGraphArgs } from \"@langchain/langgraph\";\n",
    "interface PlanExecuteState {\n",
    "  input: string;\n",
    "  plan: string[];\n",
    "  pastSteps: [string, string][];\n",
    "  response?: string;\n",
    "}\n",
    "\n",
    "const planExecuteState: StateGraphArgs<PlanExecuteState>[\"channels\"] = {\n",
    "  input: {\n",
    "    value: (left?: string, right?: string) => right ?? left ?? \"\",\n",
    "  },\n",
    "  plan: {\n",
    "    value: (x?: string[], y?: string[]) => y ?? x ?? [],\n",
    "    default: () => [],\n",
    "  },\n",
    "  pastSteps: {\n",
    "    value: (x: [string, string][], y: [string, string][]) => x.concat(y),\n",
    "    default: () => [],\n",
    "  },\n",
    "  response: {\n",
    "    value: (x?: string, y?: string) => y ?? x,\n",
    "    default: () => undefined,\n",
    "  },\n",
    "};\n"
   ]
  },
  {
   "cell_type": "markdown",
   "id": "820ee3fd",
   "metadata": {},
   "source": [
    "## Define Tools\n",
    "\n",
    "We will first define the tools we want to use. For this simple example, we will\n",
    "use a built-in search tool via Tavily. However, it is really easy to create your\n",
    "own tools - see documentation\n",
    "[here](https://js.langchain.com/docs/modules/agents/tools/dynamic) on how to do\n",
    "that."
   ]
  },
  {
   "cell_type": "code",
   "execution_count": 4,
   "id": "18a13860",
   "metadata": {},
   "outputs": [],
   "source": [
    "import { TavilySearchResults } from \"@langchain/community/tools/tavily_search\";\n",
    "\n",
    "const tools = [new TavilySearchResults({ maxResults: 3 })];\n"
   ]
  },
  {
   "cell_type": "markdown",
   "id": "0ba9aa1f",
   "metadata": {},
   "source": [
    "## Define our Execution Agent\n",
    "\n",
    "Now we will create the execution agent we want to use to execute tasks. Note\n",
    "that for this example, we will be using the same execution agent for each task,\n",
    "but this doesn't HAVE to be the case.\n"
   ]
  },
  {
   "cell_type": "code",
   "execution_count": 5,
   "id": "bfa0509d",
   "metadata": {},
   "outputs": [],
   "source": [
    "import { ChatOpenAI } from \"@langchain/openai\";\n",
    "import { createReactAgent } from \"@langchain/langgraph/prebuilt\";\n",
    "\n",
    "const agentExecutor = createReactAgent({\n",
    "  llm: new ChatOpenAI({ model: \"gpt-4o\" }),\n",
    "  tools: tools,\n",
    "});\n"
   ]
  },
  {
   "cell_type": "code",
   "execution_count": 6,
   "id": "93d6c87e",
   "metadata": {},
   "outputs": [
    {
     "name": "stdout",
     "output_type": "stream",
     "text": [
      "{\n",
      "  messages: [\n",
      "    'user',\n",
      "    'who is the winner of the us open',\n",
      "    AIMessage {\n",
      "      lc_serializable: true,\n",
      "      lc_kwargs: [Object],\n",
      "      lc_namespace: [Array],\n",
      "      content: '',\n",
      "      name: undefined,\n",
      "      additional_kwargs: [Object],\n",
      "      response_metadata: [Object],\n",
      "      tool_calls: [Array],\n",
      "      invalid_tool_calls: []\n",
      "    },\n",
      "    ToolMessage {\n",
      "      lc_serializable: true,\n",
      "      lc_kwargs: [Object],\n",
      "      lc_namespace: [Array],\n",
      "      content: `[{\"title\":\"Who won the U.S. Open in 2023? Complete scores, results, highlights ...\",\"url\":\"https://www.sportingnews.com/us/golf/news/us-open-2023-live-scores-results-leaderboard/jbmxrpro5jc37drgq8e2lehn\",\"content\":\"Sixth hole may be one to watch in Round 4, with the hole location for Round 4 in a pretty dangerous spot close to a bunker and a nice, thick rough.\\\\n12:15 p.m.: Just past noon on the east coast, and Adam Hadwin and Abraham Ancer are set to tee off at 12:18 p.m., one of the day's featured groups. He gets onto the green with a great shot at 17.\\\\n9:15 p.m.: Clark's trip to the bunker isn't a fun one, with a terrible spot keeping him from trying for the green.\\\\n Scottie in the #USOpen:2021: T-72022: T-22023: 🤔@Lexus #LexusGolf pic.twitter.com/BCiWw5uuih\\\\n3:56 p.m.: Fleetwood continues his hot start and is rocketing up the leaderboard through the front nine, moving into the top ten thanks to a birdie at the 9th.\\\\n pic.twitter.com/15389pikrX\\\\n9:36 p.m.: Clark begins his trek to the 18th tee and holds a one-shot lead while McIlroy hopes for a miracle up ahead on the green.\\\\n He will have a chance to go for birdie as he begins the back-nine.\\\\n7:35 p.m.: And Clark manages to save par on the ninth.\",\"score\":0.94901,\"raw_content\":null},{\"title\":\"2023 U.S. Open leaderboard: Wyndham Clark breaks through edging Rory ...\",\"url\":\"https://www.cbssports.com/golf/news/2023-u-s-open-leaderboard-wyndham-clark-breaks-through-edging-rory-mcilroy-for-first-major-championship/live/\",\"content\":\"College Pick'em\\\\nA Daily SportsLine Betting Podcast\\\\nNFL Playoff Time!\\\\n2023 U.S. Open leaderboard: Wyndham Clark breaks through edging Rory McIlroy for first major championship\\\\nClark beat one of the game's best clinching his second PGA Tour victory, both in the last six weeks\\\\nWith Rickie Fowler, Rory McIlroy and Scottie Scheffler atop the 2023 U.S. Open leaderboard, it appeared as if Los Angeles Country Club was set to crown a shining star as its national champion. After making birdie on No. 1 to momentarily pull even with the leaders, McIlroy was unable to take advantage of the short par-4 6th before leaving one on the table on the par-5 8th when his birdie putt from less than four feet failed to even touch the hole.\\\\n The shot on 14 was kind of the shot of the week for me -- to make a birdie there and grind it on the way in. The Champion Golfer of the Year now goes to defend the Claret Jug at Hoylake where he will relish the opportunity to put his creativity and imagination on display again.\\\\n Instead, the City of Angels saw a breakout performance from perhaps one of the game's rising stars as 29-year-old Wyndham Clark (-10) outlasted the veteran McIlroy (-9) to capture his first major championship and clinch his second professional victory.\\\\n\",\"score\":0.9114,\"raw_content\":null},{\"title\":\"Wyndham Clark wins 2023 US Open, clinching American's first ... - CNN\",\"url\":\"https://www.cnn.com/2023/06/18/golf/wyndham-clark-2023-us-open-winner-spt-intl/index.html\",\"content\":\"The American, boasting just one prior win on the PGA Tour and having never previously made the cut at the tournament, held off the challenge of Northern Ireland’s four-time major champion to win the 123rd edition of the major by a single stroke.\\\\n The 34-year-old had made a historic start, shooting 62 to join American compatriot Xander Schauffele in breaking the record for the lowest single round score ever shot at a US Open, but closed with a 75, the fourth highest score of the final round, to fall to tied-fifth.\\\\n One-on-one\\\\nThe prospect of a one-on-one shootout was soon all but confirmed, as Fowler made back-to-back bogeys to sink two below eight-under overall, the score he had held after just 18 holes of the tournament.\\\\n Three times a runner-up, eight times in the top-10: the bittersweet tag of being one of the best golfers to never win a major remains stuck to the fan-favorite Californian.\\\\n The Northern Irishman dropped to his knees in anguish, but received a boost when rules officials deemed his ball broke the surface, granting him a drop in the rough ahead of the bunker.\\\\n\",\"score\":0.90081,\"raw_content\":null}]`,\n",
      "      name: 'tavily_search_results_json',\n",
      "      additional_kwargs: {},\n",
      "      response_metadata: {},\n",
      "      tool_call_id: 'call_EwkDXfNrxQWjdXuyd7uPzvpc'\n",
      "    },\n",
      "    ToolMessage {\n",
      "      lc_serializable: true,\n",
      "      lc_kwargs: [Object],\n",
      "      lc_namespace: [Array],\n",
      "      content: `[{\"title\":\"Carlos Alcaraz wins US Open for 1st Slam title, top ranking\",\"url\":\"https://apnews.com/article/carlos-alcaraz-us-open-tennis-championships-casper-ruud-e3d006754469c6f518bc46a1599914a8\",\"content\":\"Carlos Alcaraz wins US Open for 1st Slam title, top ranking\\\\nCarlos Alcaraz, of Spain, holds up the championship trophy after defeating Casper Ruud, of Norway, in the men’s singles final of the U.S. Open tennis championships, Sunday, Sept. 11, 2022, in New York. (AP Photo/Matt Rourke)\\\\nCasper Ruud, of Norway, holds up the runner-up trophy after losing to Carlos Alcaraz, of Spain, in the men’s singles final of the U.S. Open tennis championships, Sunday, Sept. 11, 2022, in New York. (AP Photo/Matt Rourke)\\\\nCarlos Alcaraz, of Spain, holds up the championship trophy after defeating Casper Ruud, of Norway, in the men’s singles final of the U.S. Open tennis championships, Sunday, Sept. 11, 2022, in New York. (AP Photo/Mary Altaffer)\\\\nCarlos Alcaraz, of Spain, kisses the championship trophy after defeating Casper Ruud, of Norway, in the men’s singles final of the U.S. Open tennis championships, Sunday, Sept. 11, 2022, in New York. (AP Photo/Mary Altaffer)\\\\nCarlos Alcaraz, of Spain, kisses the championship trophy after defeating Casper Ruud, of Norway, in the men’s singles final of the U.S. Open tennis championships, Sunday, Sept. 11, 2022, in New York.\",\"score\":0.96457,\"raw_content\":null},{\"title\":\"Carlos Alcaraz Wins US Open Men's Singles Title, and Becomes No. 1 ...\",\"url\":\"https://www.nytimes.com/2022/09/11/sports/tennis/us-open-alcaraz-ruud.html\",\"content\":\"On Sunday, he reached the sport’s pinnacle in grand fashion on its biggest stage, packing the nearly 24,000 fans in the stadium onto his bandwagon as he claimed not only the men’s singles championship and $2.6 million in prize money, but also the No. 1 ranking in the world, becoming the youngest man to do so. Advertisement\\\\nSupported by\\\\nCarlos Alcaraz Wins U.S. Open Men’s Singles Title, and Becomes No. 1\\\\nAlcaraz, the 19-year-old Spanish sensation, beat Casper Ruud of Norway in four sets to capture his first Grand Slam championship and take the top spot in the ATP world rankings.\\\\n By Matthew Futterman\\\\nThe future of tennis arrived at 7:38 p.m. Sunday with a rocketed serve off the racket of Carlos Alcaraz, who clinched the U.S. Open men’s singles championship, announcing the start of a new era in the game.\\\\n In Croatia, last summer, he won his first tour-level title, and in New York starting a month later he blasted and drop-shotted his way into the quarterfinals as part of a teenage wave that took over the U.S. Open.\\\\n The ride began in 2021 in Australia, where he won his first main draw Grand Slam match on a court in the hinterlands of Melbourne Park with just a few dozen fans in attendance.\",\"score\":0.95933,\"raw_content\":null},{\"title\":\"US Open men's final: Novak Djokovic beats Daniil Medvedev and wins 24th ...\",\"url\":\"https://apnews.com/article/us-open-final-live-updates-djokovic-medvedev-8a4a26f8d77ef9ab2fb3efe1096dce7e\",\"content\":\"Novak Djokovic wins the US Open for his 24th Grand Slam title by beating Daniil Medvedev\\\\nNovak Djokovic, of Serbia, holds up the championship trophy after defeating Daniil Medvedev, of Russia, in the men’s singles final of the U.S. Open tennis championships, Sunday, Sept. 10, 2023, in New York. (AP Photo/Manu Fernandez)\\\\nDaniil Medvedev, of Russia, sits on the court after a rally against Novak Djokovic, of Serbia, during the men’s singles final of the U.S. Open tennis championships, Sunday, Sept. 10, 2023, in New York. (AP Photo/Manu Fernandez)\\\\nDaniil Medvedev, of Russia, sits on the court after a rally against Novak Djokovic, of Serbia, during the men’s singles final of the U.S. Open tennis championships, Sunday, Sept. 10, 2023, in New York. (AP Photo/Manu Fernandez)\\\\nDaniil Medvedev, of Russia, sits on the court after a rally against Novak Djokovic, of Serbia, during the men’s singles final of the U.S. Open tennis championships, Sunday, Sept. 10, 2023, in New York. Novak Djokovic, of Serbia, reveals a t-shirt honoring the number 24 and Kobe Bryant after defeating Daniil Medvedev, of Russia, in the men’s singles final of the U.S. Open tennis championships, Sunday, Sept. 10, 2023, in New York.\",\"score\":0.90652,\"raw_content\":null}]`,\n",
      "      name: 'tavily_search_results_json',\n",
      "      additional_kwargs: {},\n",
      "      response_metadata: {},\n",
      "      tool_call_id: 'call_X90H2x9NMmlqLRgkqBAL9Wsb'\n",
      "    },\n",
      "    ToolMessage {\n",
      "      lc_serializable: true,\n",
      "      lc_kwargs: [Object],\n",
      "      lc_namespace: [Array],\n",
      "      content: `[{\"title\":\"List of U.S. Open (golf) champions - Wikipedia\",\"url\":\"https://en.wikipedia.org/wiki/List_of_U.S._Open_(golf)_champions\",\"content\":\"U.S. Open champions are automatically invited to play in the other three majors (the Masters, the Open Championship (British Open), and the PGA Championship) for the next five years, and earn a ten-year exemption from qualifying for the U.S. Open. Eight others have led wire-to-wire in nine tournaments if ties after a round are counted: Willie Anderson in 1903, Alex Smith in 1906, Chick Evans in 1916, Tommy Bolt in 1958, Nicklaus in 1972 and 1980, Hubert Green in 1977, Payne Stewart in 1991, and Retief Goosen in 2001.[7]\\\\nChampions[edit]\\\\nBy year[edit]\\\\nMultiple champions[edit]\\\\nChampions by nationality[edit]\\\\nNotes[edit]\\\\nReferences[edit]\\\\nExternal links[edit] The champion receives a gold champion's medal, and the U.S. Open Championship Cup, which the winner is allowed to keep for a year.[3]\\\\nWillie Anderson, Bobby Jones, Ben Hogan and Jack Nicklaus hold the record for the most U.S. Open victories, with four victories each.[4] [6]\\\\nThe U.S. Open has been won wire-to-wire by seven golfers on eight occasions: 1914 by Walter Hagen, 1921 by Jim Barnes, 1953 by Hogan, 1970 by Tony Jacklin, 2000 and 2002 by Tiger Woods, 2011 by McIlroy, and 2014 by Martin Kaymer.[7][8] They also receive membership on the PGA Tour for the following five seasons and invitations to The Players Championship for the five years following their victories.[2]\",\"score\":0.97712,\"raw_content\":null},{\"title\":\"List of US Open champions - Wikipedia\",\"url\":\"https://en.wikipedia.org/wiki/List_of_US_Open_champions\",\"content\":\"Richard Sears. James Dwight (x2) 1887. Ellen Hansell. 1888. Henry Slocum (x2) Bertha Townsend (x2) Oliver Campbell. Valentine Hall.\",\"score\":0.93471,\"raw_content\":null},{\"title\":\"List of US Open men's singles champions - Wikipedia\",\"url\":\"https://en.wikipedia.org/wiki/List_of_US_Open_men's_singles_champions\",\"content\":\"The US Open is played during a two-week period in late August and early September, and has been chronologically the last of the four Grand Slam tournaments of the tennis season since 1987.[3] Newport (1881–1914), Forest Hills (1915–1920, 1924–1977), and Philadelphia (1921–1923) held the event before it settled in 1978 at the USTA National Tennis Center, now the USTA Billie Jean King National Tennis Center, in New York City.[2] Furthermore, the entry fee would be set high enough to prevent cheapskates from entering just to get a seat at the tournament at a lower price and then defaulting\\\\\".[8] Since 1881, all matches but the All-Comers final and the challenge round were played as the best-of-three sets, before the event switched to best-of-five for all rounds in 1886. Without the challenge round, the record stands at six, and is held by Tilden (1920–1925).[3]\\\\nDuring the US Open, since the inclusion of the professional tennis players, Jimmy Connors (1974, 1976, 1978, 1982–1983), Pete Sampras (1990, 1993, 1995–1996, 2002), and Roger Federer (2004–2008) have won the most championships, with five titles.\\\\n Before 1884, the winner of the next game at five-games–all took the set in every match except the All-Comers final and the challenge round, which were won by the player who had at least six games and at least two games more than his opponent. In addition, the US Open was the first slam to have a fifth set tie-break.[10]\\\\nThe court surface changed twice, from grass (1881–1974), to Har-Tru clay (1975–1977), to DecoTurf hard courts, since 1978.[11]\\\\nThe only man to win on all three surfaces, which are grass, Har-Tru clay, and DecoTurf hard was Jimmy Connors.\\\\n\",\"score\":0.90974,\"raw_content\":null}]`,\n",
      "      name: 'tavily_search_results_json',\n",
      "      additional_kwargs: {},\n",
      "      response_metadata: {},\n",
      "      tool_call_id: 'call_9sOSvdPH6uiR2y7Mtn4vdX04'\n",
      "    },\n",
      "    AIMessage {\n",
      "      lc_serializable: true,\n",
      "      lc_kwargs: [Object],\n",
      "      lc_namespace: [Array],\n",
      "      content: 'The current winners of the US Open are:\\n' +\n",
      "        '\\n' +\n",
      "        '**Golf**: Wyndham Clark won the 2023 US Open Golf Championship, clinching his first major title by edging out Rory McIlroy.\\n' +\n",
      "        '\\n' +\n",
      "        '**Tennis**: \\n' +\n",
      "        \"- For men's singles, Novak Djokovic won the 2023 US Open Tennis Championship, marking his 24th Grand Slam title by defeating Daniil Medvedev.\\n\" +\n",
      "        \"- For women's singles, Coco Gauff won the 2023 US Open Tennis Championship by defeating Aryna Sabalenka.\",\n",
      "      name: undefined,\n",
      "      additional_kwargs: [Object],\n",
      "      response_metadata: [Object],\n",
      "      tool_calls: [],\n",
      "      invalid_tool_calls: []\n",
      "    }\n",
      "  ]\n",
      "}\n"
     ]
    }
   ],
   "source": [
    "await agentExecutor.invoke({\n",
    "  messages: [\"user\", \"who is the winner of the us open\"],\n",
    "});\n"
   ]
  },
  {
   "cell_type": "markdown",
   "id": "791d42a9",
   "metadata": {},
   "source": [
    "## Planning Step\n",
    "\n",
    "Let's now think about creating the planning step. This will use function calling\n",
    "to create a plan.\n"
   ]
  },
  {
   "cell_type": "code",
   "execution_count": 15,
   "id": "44b5b660",
   "metadata": {},
   "outputs": [],
   "source": [
    "import { z } from \"zod\";\n",
    "import { zodToJsonSchema } from \"zod-to-json-schema\";\n",
    "\n",
    "const plan = zodToJsonSchema(\n",
    "  z.object({\n",
    "    steps: z\n",
    "      .array(z.string())\n",
    "      .describe(\"different steps to follow, should be in sorted order\"),\n",
    "  }),\n",
    ");\n",
    "\n",
    "const planFunction = {\n",
    "  name: \"plan\",\n",
    "  description: \"This tool is used to plan the steps to follow\",\n",
    "  parameters: plan,\n",
    "};"
   ]
  },
  {
   "cell_type": "code",
   "execution_count": 16,
   "id": "7ba67c92",
   "metadata": {},
   "outputs": [
    {
     "name": "stderr",
     "output_type": "stream",
     "text": [
      "14:35 - Type 'string' is not assignable to type 'Function'.\n"
     ]
    }
   ],
   "source": [
    "import { ChatPromptTemplate } from \"@langchain/core/prompts\";\n",
    "const plannerPrompt = ChatPromptTemplate.fromTemplate(\n",
    "  `For the given objective, come up with a simple step by step plan. \\\n",
    "This plan should involve individual tasks, that if executed correctly will yield the correct answer. Do not add any superfluous steps. \\\n",
    "The result of the final step should be the final answer. Make sure that each step has all the information needed - do not skip steps.\n",
    "\n",
    "{objective}`,\n",
    ");\n",
    "\n",
    "const model = new ChatOpenAI({\n",
    "  modelName: \"gpt-4-0125-preview\",\n",
    "}).withStructuredOutput(planFunction);\n",
    "\n",
    "const planner = plannerPrompt.pipe(model);"
   ]
  },
  {
   "cell_type": "code",
   "execution_count": 12,
   "id": "53fec065",
   "metadata": {},
   "outputs": [
    {
     "name": "stderr",
     "output_type": "stream",
     "text": [
      "Error: No tools_call in message [{\"message\":{\"lc\":1,\"type\":\"constructor\",\"id\":[\"langchain_core\",\"messages\",\"AIMessage\"],\"kwargs\":{\"content\":\"\",\"tool_calls\":[],\"invalid_tool_calls\":[],\"additional_kwargs\":{\"function_call\":{\"name\":\"plan\",\"arguments\":\"{\\\"steps\\\":[\\\"Identify the current Australia Open winner.\\\",\\\"Research the player's background information to find their hometown.\\\",\\\"Report the hometown of the current Australia Open winner.\\\"]}\"}},\"response_metadata\":{\"tokenUsage\":{\"completionTokens\":33,\"promptTokens\":149,\"totalTokens\":182},\"finish_reason\":\"stop\"}}},\"text\":\"\"}]\n",
      "    at JsonOutputToolsParser.parseResult (/Users/wfh/code/lc/langgraphjs/node_modules/@langchain/core/dist/output_parsers/openai_tools/json_output_tools_parsers.cjs:110:19)\n",
      "    at JsonOutputToolsParser._callWithConfig (/Users/wfh/code/lc/langgraphjs/node_modules/@langchain/core/dist/output_parsers/base.cjs:45:72)\n",
      "    at JsonOutputToolsParser._callWithConfig (/Users/wfh/code/lc/langgraphjs/node_modules/@langchain/core/dist/runnables/base.cjs:216:33)\n",
      "    at process.processTicksAndRejections (node:internal/process/task_queues:95:5)\n",
      "    at async RunnableSequence.invoke (/Users/wfh/code/lc/langgraphjs/node_modules/@langchain/core/dist/runnables/base.cjs:1130:27)\n",
      "    at async evalmachine.<anonymous>:3:22\n",
      "    at async Object.execute (/Users/wfh/code/lc/langgraphjs/node_modules/tslab/dist/executor.js:173:17)\n",
      "    at async JupyterHandlerImpl.handleExecuteImpl (/Users/wfh/code/lc/langgraphjs/node_modules/tslab/dist/jupyter.js:223:18)\n",
      "    at async JupyterHandlerImpl.handleExecute (/Users/wfh/code/lc/langgraphjs/node_modules/tslab/dist/jupyter.js:181:21)\n",
      "    at async ZmqServer.handleExecute (/Users/wfh/code/lc/langgraphjs/node_modules/tslab/dist/jupyter.js:379:25)\n"
     ]
    }
   ],
   "source": [
    "await planner.invoke({\n",
    "  objective: \"what is the hometown of the current Australia open winner?\",\n",
    "});\n"
   ]
  },
  {
   "cell_type": "markdown",
   "id": "d52a106e",
   "metadata": {},
   "source": [
    "## Re-Plan Step\n",
    "\n",
    "Now, let's create a step that re-does the plan based on the result of the\n",
    "previous step.\n"
   ]
  },
  {
   "cell_type": "code",
   "execution_count": null,
   "id": "2fb888fa",
   "metadata": {},
   "outputs": [
    {
     "name": "stderr",
     "output_type": "stream",
     "text": [
      "3:18 - Cannot find name 'zodToJsonSchema'.\n",
      "4:3 - Cannot find name 'z'.\n",
      "5:15 - Cannot find name 'z'.\n",
      "15:25 - Cannot find name 'ChatPromptTemplate'.\n",
      "37:9 - Cannot find name 'ChatOpenAI'.\n",
      "38:7 - Cannot find name 'planFunction'. Did you mean 'Function'?\n"
     ]
    }
   ],
   "source": [
    "import { JsonOutputToolsParser } from \"@langchain/core/output_parsers/openai_tools\";\n",
    "\n",
    "const response = zodToJsonSchema(\n",
    "  z.object({\n",
    "    response: z.string().describe(\"Response to user.\"),\n",
    "  }),\n",
    ");\n",
    "\n",
    "const responseFunction = {\n",
    "  name: \"response\",\n",
    "  description: \"Response to user.\",\n",
    "  parameters: response,\n",
    "};\n",
    "\n",
    "const replannerPrompt = ChatPromptTemplate.fromTemplate(\n",
    "  `For the given objective, come up with a simple step by step plan. \n",
    "This plan should involve individual tasks, that if executed correctly will yield the correct answer. Do not add any superfluous steps.\n",
    "The result of the final step should be the final answer. Make sure that each step has all the information needed - do not skip steps.\n",
    "\n",
    "Your objective was this:\n",
    "{input}\n",
    "\n",
    "Your original plan was this:\n",
    "{plan}\n",
    "\n",
    "You have currently done the follow steps:\n",
    "{pastSteps}\n",
    "\n",
    "Update your plan accordingly. If no more steps are needed and you can return to the user, then respond with that and use the 'response' function.\n",
    "Otherwise, fill out the plan.  \n",
    "Only add steps to the plan that still NEED to be done. Do not return previously done steps as part of the plan.`,\n",
    ");\n",
    "\n",
    "const parser = new JsonOutputToolsParser();\n",
    "const replanner = replannerPrompt\n",
    "  .pipe(\n",
    "    new ChatOpenAI({ model: \"gpt-4o\" }).bindTools([\n",
    "      planFunction,\n",
    "      responseFunction,\n",
    "    ]),\n",
    "  )\n",
    "  .pipe(parser);"
   ]
  },
  {
   "cell_type": "markdown",
   "id": "3ae6ab14",
   "metadata": {},
   "source": [
    "## Create the Graph\n",
    "\n",
    "We can now create the graph!\n"
   ]
  },
  {
   "cell_type": "code",
   "execution_count": null,
   "id": "ef97a3ea",
   "metadata": {},
   "outputs": [],
   "source": [
    "import { END, START, StateGraph } from \"@langchain/langgraph\";\n",
    "\n",
    "async function executeStep(\n",
    "  state: PlanExecuteState,\n",
    "): Promise<Partial<PlanExecuteState>> {\n",
    "  const task = state.plan[0];\n",
    "  const agentResponse = await agentExecutor.invoke({ input: task });\n",
    "  return {\n",
    "    pastSteps: [[task, agentResponse.agentOutcome.returnValues.output]],\n",
    "    plan: state.plan.slice(1),\n",
    "  };\n",
    "}\n",
    "\n",
    "async function planStep(\n",
    "  state: PlanExecuteState,\n",
    "): Promise<Partial<PlanExecuteState>> {\n",
    "  const plan = await planner.invoke({ objective: state.input });\n",
    "  return { plan: plan.steps };\n",
    "}\n",
    "\n",
    "async function replanStep(\n",
    "  state: PlanExecuteState,\n",
    "): Promise<Partial<PlanExecuteState>> {\n",
    "  const output = await replanner.invoke({\n",
    "    input: state.input,\n",
    "    plan: state.plan.join(\"\\n\"),\n",
    "    pastSteps: state.pastSteps\n",
    "      .map(([step, result]) => `${step}: ${result}`)\n",
    "      .join(\"\\n\"),\n",
    "  });\n",
    "  const toolCall = output[0];\n",
    "\n",
    "  if (toolCall.type == \"response\") {\n",
    "    return { response: toolCall.args?.response };\n",
    "  }\n",
    "\n",
    "  return { plan: toolCall.args?.steps };\n",
    "}\n",
    "\n",
    "function shouldEnd(state: PlanExecuteState) {\n",
    "  return state.response ? \"true\" : \"false\";\n",
    "}\n",
    "\n",
    "const workflow = new StateGraph<PlanExecuteState>({\n",
    "  channels: planExecuteState,\n",
    "})\n",
    "  .addNode(\"planner\", planStep)\n",
    "  .addNode(\"agent\", executeStep)\n",
    "  .addNode(\"replan\", replanStep)\n",
    "  .addEdge(START, \"planner\")\n",
    "  .addEdge(\"planner\", \"agent\")\n",
    "  .addEdge(\"agent\", \"replan\")\n",
    "  .addConditionalEdges(\"replan\", shouldEnd, {\n",
    "    true: END,\n",
    "    false: \"agent\",\n",
    "  });\n",
    "\n",
    "// Finally, we compile it!\n",
    "// This compiles it into a LangChain Runnable,\n",
    "// meaning you can use it as you would any other runnable\n",
    "const app = workflow.compile();"
   ]
  },
  {
   "cell_type": "code",
   "execution_count": null,
   "id": "2a29c903",
   "metadata": {},
   "outputs": [],
   "source": []
  },
  {
   "cell_type": "code",
   "execution_count": null,
   "id": "b4bb886e",
   "metadata": {},
   "outputs": [],
   "source": [
    "const config = { recursionLimit: 50 };\n",
    "const inputs = {\n",
    "  input: \"what is the hometown of the 2023 Australian open winner?\",\n",
    "};\n",
    "\n",
    "for await (const event of await app.stream(inputs, config)) {\n",
    "  console.log(event);\n",
    "}\n"
   ]
  },
  {
   "cell_type": "markdown",
   "id": "2da7f2be",
   "metadata": {},
   "source": [
    "> #### See the LangSmith trace [here](https://smith.langchain.com/public/276be79a-3016-4434-83c6-34715b942368/r).\n"
   ]
  }
 ],
 "metadata": {
  "jupytext": {
   "text_representation": {
    "extension": ".py",
    "format_name": "percent",
    "format_version": "1.3",
    "jupytext_version": "1.16.1"
   }
  },
  "kernelspec": {
   "display_name": "TypeScript",
   "language": "typescript",
   "name": "tslab"
  },
  "language_info": {
   "codemirror_mode": {
    "mode": "typescript",
    "name": "javascript",
    "typescript": true
   },
   "file_extension": ".ts",
   "mimetype": "text/typescript",
   "name": "typescript",
   "version": "3.7.2"
  }
 },
 "nbformat": 4,
 "nbformat_minor": 5
}
