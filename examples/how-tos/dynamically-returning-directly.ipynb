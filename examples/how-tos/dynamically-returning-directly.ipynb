{
 "cells": [
  {
   "cell_type": "markdown",
   "id": "7161c5f2",
   "metadata": {},
   "source": [
    "# Dynamically Returning Directly\n",
    "\n",
    "A typical ReAct loop follows user -> assistant -> tool -> assistant ..., -> user. In some cases, you don't need to call the LLM after the tool completes, the user can view the results directly themselves. \n",
    "\n",
    "In this example we will build a conversational ReAct agent where the LLM can optionally decide to return the result of a tool call as the final answer. This is useful in cases where you have tools that can sometimes generate responses that are acceptable as final answers, and you want to use the LLM to determine when that is the case"
   ]
  },
  {
   "cell_type": "markdown",
   "id": "d1e479fe",
   "metadata": {},
   "source": [
    "## Setup\n",
    "\n",
    "First we need to install the packages required\n",
    "\n",
    "```bash\n",
    "yarn add langchain @langchain/openai @langchain/langgraph\n",
    "```"
   ]
  },
  {
   "cell_type": "code",
   "execution_count": null,
   "id": "d12aa7c0",
   "metadata": {},
   "outputs": [],
   "source": [
    "import \"dotenv/config\";"
   ]
  },
  {
   "cell_type": "markdown",
   "id": "4eb03bd6",
   "metadata": {},
   "source": [
    "Next, we need to set API keys for OpenAI (the LLM we will use) and Tavily (the search tool we will use)\n",
    "\n",
    "```bash\n",
    "export OPENAI_API_KEY=\n",
    "export TAVILY_API_KEY=\n",
    "```"
   ]
  },
  {
   "cell_type": "markdown",
   "id": "f38a1a58",
   "metadata": {},
   "source": [
    "Optionally, we can set API key for [LangSmith tracing](https://smith.langchain.com/), which will give us best-in-class observability.\n",
    "\n",
    "```bash\n",
    "export LANGCHAIN_TRACING_V2=true\n",
    "export LANGCHAIN_API_KEY=\n",
    "```"
   ]
  },
  {
   "cell_type": "markdown",
   "id": "57310858",
   "metadata": {},
   "source": [
    "## Set up the tools\n",
    "\n",
    "We will first define the tools we want to use.\n",
    "For this simple example, we will use a built-in search tool via Tavily.\n",
    "However, it is really easy to create your own tools - see documentation [here](https://js.langchain.com/docs/modules/agents/tools/dynamic) on how to do that."
   ]
  },
  {
   "cell_type": "code",
   "execution_count": null,
   "id": "481c95ac",
   "metadata": {},
   "outputs": [],
   "source": [
    "import { TavilySearchResults } from \"@langchain/community/tools/tavily_search\";\n",
    "import { z } from \"zod\";\n",
    "\n",
    "const SearchTool = z.object({\n",
    "  query: z.string().describe(\"query to look up online\"),\n",
    "  return_direct: z.boolean().describe(\"Whether or the result of this should be returned directly to the user without you seeing what it is\").default(false),\n",
    "});\n",
    "\n",
    "const search_tool = new TavilySearchResults({ maxResults: 1, schema: SearchTool });\n",
    "const tools = [search_tool];"
   ]
  },
  {
   "cell_type": "markdown",
   "id": "5b0d34fd",
   "metadata": {},
   "source": [
    "We can now wrap these tools in a simple ToolExecutor.  \n",
    "This is a real simple class that takes in a ToolInvocation and calls that tool, returning the output.\n",
    "A ToolInvocation is any type with `tool` and `toolInput` attribute."
   ]
  },
  {
   "cell_type": "code",
   "execution_count": null,
   "id": "250415e4",
   "metadata": {},
   "outputs": [],
   "source": [
    "import { ToolExecutor } from \"@langchain/langgraph/prebuilt\";\n",
    "\n",
    "const toolExecutor = new ToolExecutor({\n",
    "  tools,\n",
    "});"
   ]
  },
  {
   "cell_type": "markdown",
   "id": "abf3e729",
   "metadata": {},
   "source": [
    "## Set up the model\n",
    "\n",
    "Now we need to load the chat model we want to use.  \n",
    "Importantly, this should satisfy two criteria:\n",
    "\n",
    "1. It should work with messages. We will represent all agent state in the form of messages, so it needs to be able to work well with them.\n",
    "2. It should work with OpenAI function calling. This means it should either be an OpenAI model or a model that exposes a similar interface.\n",
    "\n",
    "Note: these model requirements are not requirements for using LangGraph - they are just requirements for this one example."
   ]
  },
  {
   "cell_type": "code",
   "execution_count": null,
   "id": "2c24d018",
   "metadata": {},
   "outputs": [],
   "source": [
    "import { ChatOpenAI } from \"@langchain/openai\";\n",
    "\n",
    "const model = new ChatOpenAI({ temperature: 0 });"
   ]
  },
  {
   "cell_type": "markdown",
   "id": "e11dce1a",
   "metadata": {},
   "source": [
    "After we've done this, we should make sure the model knows that it has these tools available to call.\n",
    "We can do this by converting the LangChain tools into the format for OpenAI function calling, and then bind them to the model class."
   ]
  },
  {
   "cell_type": "code",
   "execution_count": null,
   "id": "b1b61588",
   "metadata": {},
   "outputs": [],
   "source": [
    "const boundModel = model.bindTools(tools);"
   ]
  },
  {
   "cell_type": "markdown",
   "id": "644169c4",
   "metadata": {},
   "source": [
    "## Define the agent state\n",
    "\n",
    "The main type of graph in `langgraph` is the [StateGraph](https://langchain-ai.github.io/langgraphjs/reference/classes/index.StateGraph.html).\n",
    " \n",
    "This graph is parameterized by a state object that it passes around to each node.\n",
    "Each node then returns operations to update that state. \n",
    "These operations can either SET specific attributes on the state (e.g. overwrite the existing values) or ADD to the existing attribute.\n",
    "Whether to set or add is denoted in the state object you construct the graph with.\n",
    "\n",
    "For this example, the state we will track will just be a list of messages.\n",
    "We want each node to just add messages to that list.\n",
    "Therefore, we will define the state as follows:"
   ]
  },
  {
   "cell_type": "code",
   "execution_count": null,
   "id": "24454123",
   "metadata": {},
   "outputs": [],
   "source": [
    "interface AgentStateBase {\n",
    "  messages: Array<BaseMessage>;\n",
    "}\n",
    "\n",
    "interface AgentState extends AgentStateBase {}\n",
    "\n",
    "const agentState = {\n",
    "  messages: {\n",
    "    value: (x: BaseMessage[], y: BaseMessage[]) => x.concat(y),\n",
    "    default: () => [],\n",
    "  },\n",
    "};"
   ]
  },
  {
   "cell_type": "markdown",
   "id": "abae32d9",
   "metadata": {},
   "source": [
    "## Define the nodes\n",
    "\n",
    "We now need to define a few different nodes in our graph. \n",
    "In `langgraph`, a node can be either a function or a [runnable](https://js.langchain.com/docs/expression_language/).\n",
    "There are two main nodes we need for this:\n",
    "\n",
    "1. The agent: responsible for deciding what (if any) actions to take.\n",
    "2. A function to invoke tools: if the agent decides to take an action, this node will then execute that action.\n",
    "\n",
    "We will also need to define some edges.\n",
    "Some of these edges may be conditional.\n",
    "The reason they are conditional is that based on the output of a node, one of several paths may be taken. \n",
    "The path that is taken is not known until that node is run (the LLM decides).\n",
    "\n",
    "1. Conditional Edge: after the agent is called, we should either:\n",
    "   a. If the agent said to take an action, then the function to invoke tools should be called\n",
    "   b. If the agent said that it was finished, then it should finish  \n",
    "2. Normal Edge: after the tools are invoked, it should always go back to the agent to decide what to do next\n",
    "\n",
    "Let's define the nodes, as well as a function to decide how what conditional edge to take."
   ]
  },
  {
   "cell_type": "code",
   "execution_count": null,
   "id": "23a8b9c6",
   "metadata": {},
   "outputs": [],
   "source": [
    "import { BaseMessage } from \"@langchain/core/messages\";\n",
    "import { AgentAction } from \"@langchain/core/agents\";\n",
    "import type { RunnableConfig } from \"@langchain/core/runnables\";\n",
    "\n",
    "// Define the function that determines whether to continue or not \n",
    "const shouldContinue = (state: AgentState) => {\n",
    "  const messages = state.messages;\n",
    "  const lastMessage = messages[messages.length - 1];\n",
    "  // If there is no function call, then we finish\n",
    "  if (!lastMessage.additional_kwargs.function_call) {\n",
    "    return \"end\";\n",
    "  }\n",
    "  // Otherwise if there is, we check if it's suppose to return direct  \n",
    "  else {\n",
    "    const arguments = JSON.parse(lastMessage.additional_kwargs.function_call.arguments); \n",
    "    if (arguments.return_direct) {\n",
    "      return \"final\";\n",
    "    } else {\n",
    "      return \"continue\";      \n",
    "    }\n",
    "  }\n",
    "};\n",
    "\n",
    "// Define the function that calls the model\n",
    "const callModel = async (state: AgentState, config: RunnableConfig) => {\n",
    "  const messages = state.messages;\n",
    "  const response = await boundModel.invoke(messages, config);\n",
    "  // We return an object, because this will get added to the existing list\n",
    "  return { messages: [response] };\n",
    "};\n",
    "\n",
    "// Define the function to execute tools  \n",
    "const callTool = async (state: AgentState, config: RunnableConfig) => {\n",
    "  const messages = state.messages;\n",
    "  // Based on the continue condition \n",
    "  // we know the last message involves a function call\n",
    "  const lastMessage = messages[messages.length - 1];\n",
    "  // We construct an AgentAction from the function_call\n",
    "  const toolCall = lastMessage.additional_kwargs.function_call;\n",
    "  const toolName = toolCall.name;\n",
    "  let arguments = JSON.parse(toolCall.arguments);\n",
    "  if (toolName === \"tavily_search_results\") {\n",
    "    if (\"return_direct\" in arguments) {\n",
    "      delete arguments[\"return_direct\"];\n",
    "    }\n",
    "  }\n",
    "  const action: AgentAction = {\n",
    "    tool: toolName,\n",
    "    toolInput: JSON.stringify(arguments),\n",
    "    log: \"\",\n",
    "  };\n",
    "  // We call the tool_executor and get back a response \n",
    "  const response = await toolExecutor.invoke(action, config);\n",
    "  // We use the response to create a ToolMessage\n",
    "  const toolMessage = new ToolMessage({  \n",
    "    content: response,\n",
    "    name: action.tool,\n",
    "    tool_call_id: toolCall.id,\n",
    "  });\n",
    "  // We return an object, because this will get added to the existing list\n",
    "  return { messages: [toolMessage] };\n",
    "};"
   ]
  },
  {
   "cell_type": "markdown",
   "id": "e84040dd",
   "metadata": {},
   "source": [
    "## Define the graph\n",
    "\n",
    "We can now put it all together and define the graph!"
   ]
  },
  {
   "cell_type": "code",
   "execution_count": null,
   "id": "05203811",
   "metadata": {},
   "outputs": [],
   "source": [
    "import { END, StateGraph } from \"@langchain/langgraph\";\n",
    "\n",
    "// Define a new graph  \n",
    "const workflow = new StateGraph({\n",
    "  channels: agentState,\n",
    "});\n",
    "\n",
    "// Define the two nodes we will cycle between\n",
    "workflow.addNode(\"agent\", callModel);\n",
    "  \n",
    "// Note the \"action\" and \"final\" nodes are identical!\n",
    "workflow.addNode(\"action\", callTool);  \n",
    "workflow.addNode(\"final\", callTool);\n",
    "\n",
    "// Set the entrypoint as `agent`\n",
    "workflow.setEntryPoint(\"agent\");  \n",
    "\n",
    "// We now add a conditional edge\n",
    "workflow.addConditionalEdges(\n",
    "  // First, we define the start node. We use `agent`. \n",
    "  \"agent\",\n",
    "  // Next, we pass in the function that will determine which node is called next.\n",
    "  shouldContinue,\n",
    "  // Finally we pass in a mapping. \n",
    "  {\n",
    "    // If `tools`, then we call the tool node.\n",
    "    continue: \"action\",\n",
    "    // Final call \n",
    "    final: \"final\",  \n",
    "    // Otherwise we finish.\n",
    "    end: END,\n",
    "  },\n",
    ");\n",
    "\n",
    "// We now add a normal edge from `tools` to `agent`.\n",
    "workflow.addEdge(\"action\", \"agent\");\n",
    "workflow.addEdge(\"final\", END);  \n",
    "\n",
    "// Finally, we compile it!\n",
    "const app = workflow.compile();"
   ]
  },
  {
   "cell_type": "markdown",
   "id": "ef7f65bd",
   "metadata": {},
   "source": [
    "## Use it!\n",
    "\n",
    "We can now use it!\n",
    "This now exposes the [same interface](https://js.langchain.com/docs/expression_language/) as all other LangChain runnables."
   ]
  },
  {
   "cell_type": "code",
   "execution_count": null,
   "id": "de5f4864",
   "metadata": {},
   "outputs": [],
   "source": [
    "import { HumanMessage } from \"@langchain/core/messages\";\n",
    "\n",
    "const inputs = { messages: [new HumanMessage(\"what is the weather in sf\")] };  \n",
    "for await (const output of await app.stream(inputs)) {\n",
    "  console.log(output);\n",
    "  console.log(\"-----\\n\");\n",
    "}"
   ]
  },
  {
   "cell_type": "code",
   "execution_count": null,
   "id": "986f8cfe",
   "metadata": {},
   "outputs": [],
   "source": [
    "import { HumanMessage } from \"@langchain/core/messages\";\n",
    "\n",
    "const inputs = {\n",
    "  messages: [\n",
    "    new HumanMessage(\n",
    "      \"what is the weather in sf? return this result directly by setting return_direct = True\",  \n",
    "    ),\n",
    "  ],\n",
    "};\n",
    "for await (const output of await app.stream(inputs)) {\n",
    "  console.log(output);\n",
    "  console.log(\"\\n---\\n\");\n",
    "}"
   ]
  }
 ],
 "metadata": {
  "jupytext": {
   "text_representation": {
    "extension": ".py",
    "format_name": "percent",
    "format_version": "1.3",
    "jupytext_version": "1.16.1"
   }
  },
  "kernelspec": {
   "display_name": "Deno",
   "language": "javascript",
   "name": "deno"
  }
 },
 "nbformat": 4,
 "nbformat_minor": 5
}